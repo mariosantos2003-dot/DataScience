{
 "cells": [
  {
   "cell_type": "code",
   "execution_count": 5,
   "metadata": {},
   "outputs": [],
   "source": [
    "\n",
    "import pandas as pandas\n",
    "import matplotlib as plt\n",
    "import numpy as np\n",
    "import scipy.stats as stats\n",
    "import statsmodels as sm\n",
    "import statsmodels.formula.api as smf"
   ]
  },
  {
   "cell_type": "code",
   "execution_count": null,
   "metadata": {},
   "outputs": [],
   "source": [
    "#Prueba de Permutacion en Python.\n",
    "\n",
    "#Tiempo que se pasa en cada pagina de la web. La web tiene 36 sesiones, 21 para la pagina A y 15 para la pagina B\n",
    "\n",
    "# Create sample data with 21 sessions for Page A and 15 for Page B\n",
    "np.random.seed(42)  # For reproducibility\n",
    "page_a_times = np.random.normal(60, 15, 21)  # Mean 60 seconds, std 15\n",
    "page_b_times = np.random.normal(75, 20, 15)  # Mean 75 seconds, std 20\n",
    "\n",
    "# Create DataFrame\n",
    "session_times = pandas.DataFrame({\n",
    "\t'Page': ['Page A'] * 21 + ['Page B'] * 15,\n",
    "\t'Time': np.concatenate([page_a_times, page_b_times])\n",
    "})\n",
    "\n",
    "# Create boxplot\n",
    "ax = session_times.boxplot(by='Page', column='Time')\n",
    "ax.set_xlabel(\"\")\n",
    "ax.set_ylabel(\"Time (in seconds)\")\n",
    "plt.suptitle(\"\")\n",
    "\n",
    "# Calculate means\n",
    "mean_a = session_times[session_times.Page == 'Page A']['Time'].mean()\n",
    "mean_b = session_times[session_times.Page == 'Page B']['Time'].mean()\n",
    "mean_b - mean_a\n"
   ]
  },
  {
   "cell_type": "code",
   "execution_count": null,
   "metadata": {},
   "outputs": [],
   "source": [
    "#Funcion de Permutacion\n",
    "def perm_fun (x, nA, nB):\n",
    "\t#x es una serie o array con los datos\n",
    "    #nA y nB son el numero de observaciones en los grupos A y B\n",
    "\tn = nA + nB\n",
    "    #idx_B es un conjunto de indices aleatorios de longitud nB\n",
    "\tidx_B = set(random.sample(range(n),nB))\n",
    "\t#idx_A es el conjunto de indices restantes\n",
    "\tidx_A = set(range(n)) - idx_B\n",
    "\t#Calculo de la diferencia de medias\n",
    "\treturn x.loc[idx_B].mean() - x.loc[idx_A].mean()"
   ]
  },
  {
   "cell_type": "code",
   "execution_count": null,
   "metadata": {},
   "outputs": [],
   "source": [
    "import random\n",
    "\n",
    "# Define the sample sizes\n",
    "nA = len(page_a_times)  # 21\n",
    "nB = len(page_b_times)  # 15\n",
    "\n",
    "perm_diffs = [perm_fun(session_times.Time, nA, nB) for _ in range(1000)]\n",
    "fig, ax = plt.pyplot.subplots(figsize=(5,5))\n",
    "ax.hist(perm_diffs, bins=11, rwidth=0.9)\n",
    "ax.axvline(x=mean_b - mean_a, color='black', lw=2)\n",
    "ax.text(50, 190, 'Observed\\ndifference', bbox={'facecolor': 'white'})\n",
    "ax.set_xlabel('Session Time differences (in seconds)')\n",
    "ax.set_ylabel('Frequency')\n",
    "\n",
    "np.mean(perm_diffs > mean_b - mean_a) "
   ]
  },
  {
   "cell_type": "code",
   "execution_count": null,
   "metadata": {},
   "outputs": [],
   "source": [
    "#Valor p\n",
    "\n",
    "np.mean([diff > obs_pct_diff for diff in perm_diffs])"
   ]
  },
  {
   "cell_type": "code",
   "execution_count": null,
   "metadata": {},
   "outputs": [],
   "source": [
    "#Prueba T en Python\n",
    "\n",
    "#Hacemos la prueba t para comparar las medias de los dos grupos\n",
    "res = stats.test_ind(session_times[session_times.Page == 'Page A'].Time,\n",
    "                     session_times[session_times.Page == 'Page B'].Time,\n",
    "                     equal_var=False)\n",
    "\n",
    "#Imprimimos el valor p\n",
    "print(f'p-value for single sided test: {res.pvalue / 2:.4f}')"
   ]
  },
  {
   "cell_type": "code",
   "execution_count": null,
   "metadata": {},
   "outputs": [],
   "source": []
  },
  {
   "cell_type": "code",
   "execution_count": null,
   "metadata": {},
   "outputs": [
    {
     "ename": "NameError",
     "evalue": "name 'session_times' is not defined",
     "output_type": "error",
     "traceback": [
      "\u001b[31m---------------------------------------------------------------------------\u001b[39m",
      "\u001b[31mNameError\u001b[39m                                 Traceback (most recent call last)",
      "\u001b[36mCell\u001b[39m\u001b[36m \u001b[39m\u001b[32mIn[12]\u001b[39m\u001b[32m, line 3\u001b[39m\n\u001b[32m      1\u001b[39m \u001b[38;5;66;03m#Prueba ANOVA en Python\u001b[39;00m\n\u001b[32m----> \u001b[39m\u001b[32m3\u001b[39m model = smf.ols(\u001b[33m'\u001b[39m\u001b[33mTime ~ Page\u001b[39m\u001b[33m'\u001b[39m, data=\u001b[43msession_times\u001b[49m).fit()\n\u001b[32m      4\u001b[39m aov_table = sm.api.stats.anova_lm(model)\n\u001b[32m      5\u001b[39m aov_table\n",
      "\u001b[31mNameError\u001b[39m: name 'session_times' is not defined"
     ]
    }
   ],
   "source": [
    "#Prueba ANOVA en Python\n",
    "\n",
    "model = smf.ols('Time ~ Page', data=four_sessions).fit()\n",
    "aov_table = sm(model)\n",
    "aov_table"
   ]
  }
 ],
 "metadata": {
  "kernelspec": {
   "display_name": "Python 3",
   "language": "python",
   "name": "python3"
  },
  "language_info": {
   "codemirror_mode": {
    "name": "ipython",
    "version": 3
   },
   "file_extension": ".py",
   "mimetype": "text/x-python",
   "name": "python",
   "nbconvert_exporter": "python",
   "pygments_lexer": "ipython3",
   "version": "3.13.2"
  }
 },
 "nbformat": 4,
 "nbformat_minor": 2
}
