{
 "cells": [
  {
   "cell_type": "code",
   "execution_count": null,
   "metadata": {},
   "outputs": [],
   "source": [
    "import pandas as pd \n",
    "import seaborn as sns\n",
    "import matplotlib.pyplot as plt\n",
    "import sklearn as sk\n"
   ]
  },
  {
   "cell_type": "code",
   "execution_count": 21,
   "metadata": {},
   "outputs": [],
   "source": [
    "loans_income = pd.read_csv('../Csv/loans_income.csv')"
   ]
  },
  {
   "cell_type": "code",
   "execution_count": null,
   "metadata": {},
   "outputs": [
    {
     "data": {
      "text/plain": [
       "<seaborn.axisgrid.FacetGrid at 0x239f4eefe00>"
      ]
     },
     "execution_count": 18,
     "metadata": {},
     "output_type": "execute_result"
    },
    {
     "data": {
      "image/png": "[encoded data removed]",
      "text/plain": [
       "<Figure size 1350x300 with 3 Axes>"
      ]
     },
     "metadata": {},
     "output_type": "display_data"
    }
   ],
   "source": [
    "#Creacion de un histograma de Distribucion muestral\n",
    "\n",
    "sample_data = pd.DataFrame({\n",
    "    'income': loans_income['x'].sample(1000).values,\n",
    "    'type': 'Data'\n",
    "})\n",
    "\n",
    "sample_mean_05 = pd.DataFrame({\n",
    "    'income': [loans_income['x'].sample(5).mean() for _ in range(1000)],\n",
    "    'type': 'Mean of 5'\n",
    "\n",
    "})\n",
    "\n",
    "sample_mean_20 = pd.DataFrame({\n",
    "    'income': [loans_income['x'].sample(20).mean() for _ in range(1000)],\n",
    "    'type': 'Mean of 20'\n",
    "\n",
    "})\n",
    "\n",
    "results = pd.concat([sample_data, sample_mean_05, sample_mean_20])\n",
    "\n",
    "g = sns.FacetGrid(results, col='type', col_wrap=3, height=3, aspect=1.5)\n",
    "g.map(plt.hist, 'income', range=[0, 200000], bins=40)\n",
    "\n",
    "g.set_axis_labels('Income', 'Count')\n",
    "g.set_titles('{col_name}')\n",
    "                  "
   ]
  },
  {
   "cell_type": "code",
   "execution_count": 26,
   "metadata": {},
   "outputs": [
    {
     "name": "stdout",
     "output_type": "stream",
     "text": [
      "bootstrap Statistics:\n",
      "original: 62000.0\n",
      "bias: -73.68099999999686\n",
      "std. error: 220.7398997515908\n"
     ]
    }
   ],
   "source": [
    "#Crear un bootstrap con Python.\n",
    "\n",
    "results = []\n",
    "from sklearn.utils import resample\n",
    "for nrepeat in range(1000):\n",
    "    sample = resample(loans_income)\n",
    "    results.append(sample['x'].median())\n",
    "results = pd.Series(results)\n",
    "print('bootstrap Statistics:')\n",
    "print(f'original: {loans_income[\"x\"].median()}')\n",
    "print(f'bias: {results.mean() - loans_income[\"x\"].median()}')\n",
    "print(f'std. error: {results.std()}')"
   ]
  }
 ],
 "metadata": {
  "kernelspec": {
   "display_name": "Python 3",
   "language": "python",
   "name": "python3"
  },
  "language_info": {
   "codemirror_mode": {
    "name": "ipython",
    "version": 3
   },
   "file_extension": ".py",
   "mimetype": "text/x-python",
   "name": "python",
   "nbconvert_exporter": "python",
   "pygments_lexer": "ipython3",
   "version": "3.13.2"
  }
 },
 "nbformat": 4,
 "nbformat_minor": 2
}
