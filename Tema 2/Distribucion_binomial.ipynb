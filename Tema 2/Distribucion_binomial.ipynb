{
 "cells": [
  {
   "cell_type": "code",
   "execution_count": null,
   "metadata": {},
   "outputs": [
    {
     "data": {
      "text/plain": [
       "np.float64(0.9526510126)"
      ]
     },
     "execution_count": 4,
     "metadata": {},
     "output_type": "execute_result"
    }
   ],
   "source": [
    "import scipy.stats as stats\n",
    "#Calculo binomial en Python\n",
    "\n",
    "#Calculo de la probabilidad de que salgan 5 caras en 10 lanzamientos de una moneda trucada que tiene una probabilidad de 0.3 de salir cara\n",
    "stats.binom.pmf(5, n=10, p=0.3)\n",
    "#Calculo de la probabilidad de que salgan 5 o menos caras en 10 lanzamientos de una moneda trucada que tiene una probabilidad de 0.3 de salir cara\n",
    "stats.binom.cdf(5, n=10, p=0.3)"
   ]
  },
  {
   "cell_type": "code",
   "execution_count": null,
   "metadata": {},
   "outputs": [
    {
     "data": {
      "text/plain": [
       "array([2, 4, 3, 6, 1, 1, 2, 3, 1, 1, 3, 4, 2, 2, 2, 2, 0, 2, 1, 0, 3, 1,\n",
       "       2, 0, 0, 2, 3, 2, 1, 1, 1, 1, 2, 1, 5, 1, 3, 2, 3, 3, 4, 2, 0, 2,\n",
       "       2, 6, 2, 1, 1, 2, 4, 4, 2, 2, 3, 2, 0, 1, 2, 3, 3, 1, 2, 3, 3, 3,\n",
       "       1, 2, 0, 3, 1, 3, 2, 4, 2, 2, 1, 5, 2, 2, 4, 2, 4, 3, 1, 2, 2, 2,\n",
       "       1, 2, 2, 1, 0, 2, 4, 3, 4, 1, 2, 3])"
      ]
     },
     "execution_count": 5,
     "metadata": {},
     "output_type": "execute_result"
    }
   ],
   "source": [
    "#Distribucion de Poisson\n",
    "\n",
    "#Importamos la libreria\n",
    "import scipy.stats as stats\n",
    "\n",
    "#Genera 100 numeros aleatorios donde el promedio de llamadas es 2\n",
    "stats.poisson.rvs(2, size =100)"
   ]
  }
 ],
 "metadata": {
  "kernelspec": {
   "display_name": "Python 3",
   "language": "python",
   "name": "python3"
  },
  "language_info": {
   "codemirror_mode": {
    "name": "ipython",
    "version": 3
   },
   "file_extension": ".py",
   "mimetype": "text/x-python",
   "name": "python",
   "nbconvert_exporter": "python",
   "pygments_lexer": "ipython3",
   "version": "3.13.2"
  }
 },
 "nbformat": 4,
 "nbformat_minor": 2
}
